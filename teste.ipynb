{
  "nbformat": 4,
  "nbformat_minor": 0,
  "metadata": {
    "colab": {
      "name": "teste.ipynb",
      "provenance": [],
      "collapsed_sections": [],
      "authorship_tag": "ABX9TyPX3HKPQc20lDuTz6pbRLrH",
      "include_colab_link": true
    },
    "kernelspec": {
      "name": "python3",
      "display_name": "Python 3"
    }
  },
  "cells": [
    {
      "cell_type": "markdown",
      "metadata": {
        "id": "view-in-github",
        "colab_type": "text"
      },
      "source": [
        "<a href=\"https://colab.research.google.com/github/acican/PiOBDII/blob/master/teste.ipynb\" target=\"_parent\"><img src=\"https://colab.research.google.com/assets/colab-badge.svg\" alt=\"Open In Colab\"/></a>"
      ]
    },
    {
      "cell_type": "code",
      "metadata": {
        "id": "aFIqqmZyZ0Ez",
        "colab_type": "code",
        "colab": {}
      },
      "source": [
        "print(\"test\")\n",
        "print (myClass.myAdd(3))"
      ],
      "execution_count": null,
      "outputs": []
    },
    {
      "cell_type": "markdown",
      "metadata": {
        "id": "ff8ZSc8sx50t",
        "colab_type": "text"
      },
      "source": [
        "# New Section"
      ]
    },
    {
      "cell_type": "code",
      "metadata": {
        "id": "Ey9nBPBNaFb9",
        "colab_type": "code",
        "colab": {}
      },
      "source": [
        "class myClass():\n",
        "  def myAdd(a):\n",
        "    a = a+a\n",
        "  def myMul(a):\n",
        "    a = a*a\n"
      ],
      "execution_count": 12,
      "outputs": []
    }
  ]
}